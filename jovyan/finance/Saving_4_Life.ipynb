{
 "cells": [
  {
   "cell_type": "code",
   "execution_count": 1,
   "metadata": {},
   "outputs": [],
   "source": [
    "%matplotlib inline\n",
    "\n",
    "import pandas as pd\n",
    "import matplotlib\n",
    "import matplotlib.pyplot as plt\n",
    "from pylab import rcParams\n",
    "import numpy as np\n",
    "rcParams['figure.figsize'] = 26, 12\n",
    "rcParams['lines.linewidth'] = 3\n",
    "matplotlib.rc('xtick', labelsize=20)     \n",
    "matplotlib.rc('ytick', labelsize=20)\n"
   ]
  },
  {
   "cell_type": "code",
   "execution_count": 2,
   "metadata": {},
   "outputs": [],
   "source": [
    "import ipywidgets as widgets\n",
    "from ipywidgets import interact, interact_manual"
   ]
  },
  {
   "cell_type": "code",
   "execution_count": 3,
   "metadata": {},
   "outputs": [
    {
     "data": {
      "application/vnd.jupyter.widget-view+json": {
       "model_id": "cba1c48c1bf04861a8815ceb8efe01b4",
       "version_major": 2,
       "version_minor": 0
      },
      "text/plain": [
       "interactive(children=(IntSlider(value=90, description='age_max', max=90, min=30, step=5), IntSlider(value=43, …"
      ]
     },
     "metadata": {},
     "output_type": "display_data"
    }
   ],
   "source": [
    "pd.options.display.float_format = '{0:.2f}'.format\n",
    "\n",
    "@interact(age_max=(30,90,5),retirement_age=(55,70,1),inflation=(1,10,1),interest_on_savings=(0,10,1),\\\n",
    "          annual_savings=(10*1000,120*1000,10000),cost_2_live_another_year=(12*1000,90*1000,12000))\n",
    "def get_life_df(age_max=90,age_now=43,retirement_age=59, yr_now=\"2019\",annual_savings=30000,\\\n",
    "        cost_2_live_another_year=24000,inflation=3,interest_on_savings=6):\n",
    "        inflation = inflation*.01\n",
    "        interest_on_savings = interest_on_savings*.01\n",
    "        periods=age_max-age_now+1\n",
    "        retirement_y = retirement_age - age_now\n",
    "        idx = pd.date_range(f'{yr_now}-12-31', periods=periods, freq='y')\n",
    "        ts = pd.Series(range(len(idx)), index=idx)\n",
    "        df = pd.DataFrame(ts,columns=['year'])\n",
    "        df['age'] = age_now + df.year \n",
    "        df['new_money'] = (df['year'] <  retirement_y) * annual_savings\n",
    "        df['year_end_balance'] = 0\n",
    "        df['years_spendings'] = 0\n",
    "        \n",
    "        df['years_spendings'] = (  cost_2_live_another_year * (1+inflation)**df.year ) * (df.year >= retirement_y)\n",
    "        \n",
    "        for i in range(0, len(df)):\n",
    "                 \n",
    "                if i > 0:\n",
    "                        years_savings = df.iloc[i]['new_money']\n",
    "                        years_spendings = df.iloc[i]['years_spendings']\n",
    "                        year_end_balance = df.iloc[i-1]['year_end_balance'] + years_savings - years_spendings\n",
    "                        interest_earned =  year_end_balance * (interest_on_savings)\n",
    "                        year_end_balance += interest_earned\n",
    "                        df.iloc[i,df.columns.get_loc('year_end_balance')] = year_end_balance\n",
    "        \n",
    "        plt = df['year_end_balance'].plot()\n",
    "        plt.grid(True)\n",
    "\n"
   ]
  }
 ],
 "metadata": {
  "kernelspec": {
   "display_name": "Python 3",
   "language": "python",
   "name": "python3"
  },
  "language_info": {
   "codemirror_mode": {
    "name": "ipython",
    "version": 3
   },
   "file_extension": ".py",
   "mimetype": "text/x-python",
   "name": "python",
   "nbconvert_exporter": "python",
   "pygments_lexer": "ipython3",
   "version": "3.7.3"
  }
 },
 "nbformat": 4,
 "nbformat_minor": 2
}
