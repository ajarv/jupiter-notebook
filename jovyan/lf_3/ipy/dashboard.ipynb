{
 "cells": [
  {
   "cell_type": "markdown",
   "metadata": {},
   "source": [
    "# Predictions"
   ]
  },
  {
   "cell_type": "code",
   "execution_count": null,
   "metadata": {},
   "outputs": [],
   "source": [
    "import T03\n",
    "import time\n",
    "import math\n",
    "\n",
    "current_day = 195\n",
    "\n",
    "df , today_day = T03.get_data(current_day)\n",
    "\n",
    "next4days = T03.make_future_predictions(today_day)\n",
    "# print('-'*10)\n",
    "# print(next4days.to_string(index=False))\n",
    "# print('-'*10)\n",
    "\n",
    "cash_df = T03.get_cash_data(today_day)\n",
    "stinfo ,working_df = T03.get_stations_info(today_day)\n",
    "\n",
    "pending_jobs = max(0,working_df['JOBIN'].sum()  -  working_df['JOBOUT'].sum())\n",
    "pending_jobs_f = pending_jobs > 7\n",
    "\n",
    "job_rev = working_df.iloc[-1]['JOBREV']\n",
    "job_rev_f = job_rev < 1100\n",
    "\n",
    "job_time = working_df.iloc[-1]['JOBT'].mean()\n",
    "job_time_f = job_time > .5\n",
    "\n",
    "R ,S , H=  df.iloc[today_day-1]['JOBIN_PRED'],800, 600*.1/365\n",
    "lead_time , demand_std,service_level = 5 , df.iloc[today_day-50:today_day]['JOBIN'].std(),2.5\n",
    "\n",
    "eoq = math.ceil(math.sqrt(  2 *  R * S / H)) \n",
    "cycle_stock = df.iloc[today_day:today_day+5]['JOBIN_PRED'].sum()\n",
    "safety_stock =   math.ceil ( service_level * (lead_time**.5) * demand_std )\n",
    "rop = cycle_stock + safety_stock  \n",
    "\n",
    "# print(eoq,rop,cycle_stock,safety_stock)\n",
    "days_remaining = 268 - today_day\n",
    "inventory_needed = df.iloc[150:today_day]['JOBIN'].mean() * days_remaining\n",
    "inventory_std = df.iloc[150:today_day]['JOBIN'].std() / math.sqrt(days_remaining)\n",
    "inventory_needed_u = 12.75 * days_remaining\n",
    "\n",
    "\n",
    "current_inv = df.iloc[today_day-1]['INV']/60"
   ]
  },
  {
   "cell_type": "markdown",
   "metadata": {},
   "source": [
    "## OLS"
   ]
  },
  {
   "cell_type": "code",
   "execution_count": null,
   "metadata": {},
   "outputs": [],
   "source": [
    "import pandas as pd\n",
    "from statsmodels.formula.api import ols\n",
    "import statsmodels.api as sm\n",
    "\n",
    "df50 = df.head(50)\n",
    "y = df50.JOBIN\n",
    "X = sm.add_constant(df50.day)\n",
    "\n",
    "model = sm.OLS(y, X)\n",
    "model.fit()\n",
    "results = model.fit()\n",
    "print(results.summary())"
   ]
  },
  {
   "cell_type": "markdown",
   "metadata": {},
   "source": [
    "# Today is  Day {{today_day}}\n",
    "\n",
    "\n",
    "| Check   |      Value      | Warning Flag |\n",
    "|----------|-------------:|------:|\n",
    "| Pending Jobs |  {{pending_jobs}} | {{pending_jobs_f}} |\n",
    "| Job Revenue |    $ {{job_rev}}   |   {{job_rev_f}} |\n",
    "| Job Lead Time |    {{job_time}} day  |   {{job_time_f}} |\n",
    "\n",
    "Suggested : EOQ **{{eoq}}** , ROP **{{100}}**\n",
    "\n",
    "**pending** Jobs are a spillover from yesterday. A number close to 0.3 times **Station Capacity** is deemed unhealthy \n"
   ]
  },
  {
   "cell_type": "code",
   "execution_count": null,
   "metadata": {},
   "outputs": [],
   "source": [
    "T03.print_summary()"
   ]
  },
  {
   "cell_type": "code",
   "execution_count": null,
   "metadata": {},
   "outputs": [],
   "source": [
    "%matplotlib inline\n",
    "import T03\n",
    "import matplotlib.pyplot as plt\n",
    "from pylab import rcParams\n",
    "import numpy as np\n",
    "\n",
    "rcParams['figure.figsize'] = 16, 12\n",
    "rcParams['lines.linewidth'] = 2\n",
    "\n",
    "perf_df = df.iloc[:today_day].copy()\n",
    "\n",
    "\n",
    "T03.plotx(plt,1,perf_df,['JOBIN','JOBOUT'],(3,28),\"Orders per day -10 days - now\")\n",
    "T03.plotx(plt,2,perf_df,['S1UTIL','S2UTIL','S3UTIL'],(-.1,1.2),\"Utilizations -10 days - now\")\n",
    "T03.plotx(plt,3,perf_df,['S1Q','S2Q','S3Q'],(-1,50),\"Queues -10 days - now\")\n",
    "\n",
    "T03.plotx(plt,4,perf_df,['JOBT',],(.2,1.5),\"Lead Time -10 days - now\")\n",
    "T03.plotx(plt,5,perf_df,['JOBREV'],(-1,1500),\"Revenue Per Order -10 days - now\")\n",
    "\n",
    "T03.plotx(plt,6,cash_df,['JOBIN','JOBOUT','JOBIN_PRED'],(0,30),\"Orders\",today_day)\n",
    "\n",
    "\n",
    "# print (invdf['INV'])\n",
    "T03.plotx(plt,7,cash_df,['INV'],(-1,900),\"Inventory\",today_day)\n",
    "\n",
    "T03.plotx(plt,8,cash_df,['CASH','CUM_EARN'],(6,3000),\"CASH Predictions\",today_day)\n",
    "# T03.plotx(plt,8,cash_df,['CASH','CUM_EARN','CASH_1K',\"CASH_750\"],(6,3000),\"CASH Predictions\",today_day)\n",
    "\n",
    "# print (cash_df.iloc[today_day-2:today_day+2][['day','CASH','INV']])"
   ]
  },
  {
   "cell_type": "markdown",
   "metadata": {},
   "source": [
    "# Autopilot Action Log"
   ]
  },
  {
   "cell_type": "code",
   "execution_count": null,
   "metadata": {},
   "outputs": [],
   "source": [
    "with open(\"/home/ajar/work/little/R01.log\",'rb') as f:\n",
    "    for line in f:\n",
    "        print(line)"
   ]
  },
  {
   "cell_type": "markdown",
   "metadata": {},
   "source": [
    "### Group Standings"
   ]
  },
  {
   "cell_type": "code",
   "execution_count": null,
   "metadata": {},
   "outputs": [],
   "source": [
    "import pandas as pd        \n",
    "import time\n",
    "\n",
    "\n",
    "group_df = T03.get_current_assets()\n",
    "\n",
    "group_df = group_df\n",
    "\n",
    "group_df['g4-g2'] =  group_df['g4'] - group_df['g2']\n",
    "# T03.plottime(plt,11,group_df,['g4-g2'],(0,50000),\"G4-G2\")\n",
    "for i in [1,2,3,5]: group_df['g4-%d'%i] =   group_df['g%d'%i] - group_df['g4'] \n",
    "T03.plottime(plt,14,group_df,['g4-1','g4-2','g4-3','g4-5'],(-35000,35000),\"G4-Deltas\")\n",
    "\n",
    "\n",
    "# T03.plottime(plt,10,group_df,['g%dass'%i for i in range(1,6)],(1.6e6,1.95e6),\"Current Assets\")\n",
    "T03.plottime(plt,13,group_df,['g%d'%i for i in range(1,6)],(1.2e6,2.263e6),\"Current Cash\")\n",
    "T03.plottime(plt,12,group_df,['g%dinv'%i for i in range(1,6)],(10,800),\"Inventory\")\n",
    "# T03.plottime(plt,14,group_df,['g%ddelta'%i for i in range(1,6)],(1,5000),\"Deltas\")\n",
    "# T03.plottime(plt,15,group_df,['g4ass'],(1.8e6,1.96e6),\"Our Assets\")\n",
    "\n",
    "\n",
    "# print(group_df.tail()[['time','day']+['g%ddelta'%i for i in range(1,6)]])\n",
    "# print(group_df.tail()[['time','day']+['g%d'%i for i in range(1,6)]])\n",
    "# print(group_df.tail()[['time','day']+['g%dass'%i for i in range(1,6)]])\n",
    "# print(group_df[['time','day']+['g%dinv'%i for i in range(1,6)]])\n",
    "# print(group_df.tail()[['time','day']+['g4-1','g4-2','g4-3','g4-5']])\n",
    "# xdf = df.iloc[today_day-20:today_day].copy()\n",
    "# xdf['JOBIN'] = xdf['JOBIN'].cumsum() \n",
    "# print(xdf[['day','JOBIN']])"
   ]
  },
  {
   "cell_type": "markdown",
   "metadata": {},
   "source": [
    "### Past 10 day order mixes"
   ]
  },
  {
   "cell_type": "code",
   "execution_count": null,
   "metadata": {},
   "outputs": [],
   "source": [
    "print(df.iloc[today_day-10:today_day][['day','JOBIN','JOBOUT_075', 'JOBOUT_100', 'JOBOUT_125', 'JOBT_100', 'JOBT_125']].to_string(index=False))\n",
    "\n",
    "# df.iloc[150:190][['JOBIN']].plot(kind='hist', alpha=0.5)"
   ]
  },
  {
   "cell_type": "code",
   "execution_count": null,
   "metadata": {},
   "outputs": [],
   "source": [
    ""
   ]
  }
 ],
 "metadata": {
  "kernelspec": {
   "display_name": "Python 3",
   "language": "python",
   "name": "python3"
  },
  "language_info": {
   "codemirror_mode": {
    "name": "ipython",
    "version": 3.0
   },
   "file_extension": ".py",
   "mimetype": "text/x-python",
   "name": "python",
   "nbconvert_exporter": "python",
   "pygments_lexer": "ipython3",
   "version": "3.5.1"
  },
  "latex_envs": {
   "bibliofile": "biblio.bib",
   "cite_by": "apalike",
   "current_citInitial": 1.0,
   "eqLabelWithNumbers": true,
   "eqNumInitial": 0.0
  }
 },
 "nbformat": 4,
 "nbformat_minor": 0
}