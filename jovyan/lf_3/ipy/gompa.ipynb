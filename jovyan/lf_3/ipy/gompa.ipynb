{
 "cells": [
  {
   "cell_type": "code",
   "execution_count": null,
   "metadata": {
    "collapsed": true,
    "hide_input": false
   },
   "outputs": [],
   "source": [
    "%matplotlib inline\n",
    "\"\"\"\n",
    "Simple demo of a scatter plot.\n",
    "\"\"\"\n",
    "import numpy as np\n",
    "\n",
    "import scipy.stats as stats\n",
    "\n",
    "import matplotlib.pyplot as plt\n",
    "import matplotlib.cm as cm\n",
    "import pandas as pd\n",
    "from pylab import rcParams\n",
    "\n",
    "plt.style.use('ggplot')\n",
    "rcParams['figure.figsize'] = 5, 5\n",
    "rcParams['lines.linewidth'] = 2\n",
    "\n",
    "class Kit:\n",
    "    def __init__(self,ix,order):\n",
    "        self.ix = ix\n",
    "        self.stage = 0\n",
    "        self.order = order\n",
    "        pass\n",
    "    def work(self,station,now):\n",
    "        if self.stage == 4\n",
    "            self.order.markDone(self)\n",
    "        pass\n",
    "    \n",
    "    \n",
    "class Order:\n",
    "    KIT_C = 0\n",
    "    def __init__(self):\n",
    "        self.kits = [Kit(ix) for ix in range(0,self.KIT_C)]\n",
    "        pass\n",
    "    def tick(self)\n",
    "\n",
    "class Order:\n",
    "    KIT_C = 0\n",
    "    def __init__(self):\n",
    "        self.kits = [Kit(ix) for ix in range(0,self.KIT_C)]\n",
    "        pass\n",
    "    def tick(self)\n",
    "\n",
    "\n"
   ]
  }
 ],
 "metadata": {
  "kernelspec": {
   "display_name": "Python 3",
   "language": "python",
   "name": "python3"
  },
  "language_info": {
   "codemirror_mode": {
    "name": "ipython",
    "version": 3
   },
   "file_extension": ".py",
   "mimetype": "text/x-python",
   "name": "python",
   "nbconvert_exporter": "python",
   "pygments_lexer": "ipython3",
   "version": "3.5.1"
  }
 },
 "nbformat": 4,
 "nbformat_minor": 0
}
