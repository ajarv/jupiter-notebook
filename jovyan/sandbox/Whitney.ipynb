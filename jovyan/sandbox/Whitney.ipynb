{
 "cells": [
  {
   "cell_type": "code",
   "execution_count": 1,
   "metadata": {},
   "outputs": [],
   "source": [
    "# names =\"\"\"\n",
    "# Aashray Reddy\n",
    "# Abhiyuday Sharma\n",
    "# Anaya Jain\n",
    "# Anika Bhatnagar\n",
    "# Anika Ranjan\n",
    "# Ashirvad Chourasia\n",
    "# Avneesh Sharma\n",
    "# Jane Lohani\n",
    "# Kavya G\n",
    "# Krish Patil \n",
    "# Manha Agarwal\n",
    "# Meher Gupta\n",
    "# Neel Sahdave\n",
    "# Nikhil Lalwani\n",
    "# Nitin Chatlani\n",
    "# Sara Vashisth\n",
    "# Shefali Chaubey\n",
    "# Sreeja Rai\n",
    "# Tara Sahdave\n",
    "# Veer Chopra\n",
    "# Yug Shah\"\"\".splitlines()\n",
    "\n",
    "# fns = [name.split()[0] for name in names]\n",
    "# len(fns)"
   ]
  },
  {
   "cell_type": "code",
   "execution_count": 19,
   "metadata": {},
   "outputs": [],
   "source": [
    "import datetime\n",
    "import requests\n"
   ]
  },
  {
   "cell_type": "code",
   "execution_count": 23,
   "metadata": {},
   "outputs": [],
   "source": [
    "def get_availability(d1 = '2019-08-25',d2 = '2019-10-25'):\n",
    "    aurl = f'https://www.recreation.gov/api/permits/233260/divisions/406/availability?start_date={d1}T00:00:00.000Z&end_date={d2}T00:00:00.000Z&commercial_acct=false'\n",
    "    print (aurl)\n",
    "    headers = {'cookie':'_ga=GA1.2.1207556030.1566694281; _gid=GA1.2.425546384.1566694281; QSI_SI_0Ogo1301MUj7HeJ_intercept=true; QSI_HistorySession=https%3A%2F%2Fwww.recreation.gov%2F~1566694282312%7Chttps%3A%2F%2Fwww.recreation.gov%2Fsearch%3Flat_sw%3D3.6722362889127%26lng_sw%3D-167.2815442995964%26lat_ne%3D60.77726184625004%26lng_ne%3D-51.637969429829155%26inventory_type%3Dpermits%26sort%3Ddistance~1566694290205%7Chttps%3A%2F%2Fwww.recreation.gov%2Fsearch%3Fq%3DMount%2520Whitney%2520day%2520use%26inventory_type%3Dpermits%26sort%3Ddistance~1566694310552%7Chttps%3A%2F%2Fwww.recreation.gov%2Fpermits%2F233260~1566694319117%7Chttps%3A%2F%2Fwww.recreation.gov%2Fpermits%2F23326~1566695428583%7Chttps%3A%2F%2Fwww.recreation.gov%2Fpermits%2F233260~1566695443350%7Chttps%3A%2F%2Fwww.recreation.gov%2Fpermits%2F233261~1566695872707%7Chttps%3A%2F%2Fwww.recreation.gov%2Fpermits%2F233260~1566696151199'}\n",
    "    response = requests.get(aurl,headers=headers)\n",
    "    if response.status_code == 200:\n",
    "        return response.json()\n",
    "    print(response)\n",
    "    return None\n"
   ]
  },
  {
   "cell_type": "code",
   "execution_count": 24,
   "metadata": {},
   "outputs": [
    {
     "name": "stdout",
     "output_type": "stream",
     "text": [
      "https://www.recreation.gov/api/permits/233260/divisions/406/availability?start_date=2019-08-25T00:00:00.000Z&end_date=2019-10-25T00:00:00.000Z&commercial_acct=false\n",
      "<Response [403]>\n"
     ]
    }
   ],
   "source": [
    "d = get_availability()\n"
   ]
  },
  {
   "cell_type": "markdown",
   "metadata": {},
   "source": [
    "\n",
    "jq '.payload.date_availability | to_entries[] | select(.value.remaining >=2 )'\n"
   ]
  },
  {
   "cell_type": "code",
   "execution_count": 17,
   "metadata": {},
   "outputs": [
    {
     "name": "stdout",
     "output_type": "stream",
     "text": [
      "None\n"
     ]
    }
   ],
   "source": [
    "print(d)"
   ]
  }
 ],
 "metadata": {
  "kernelspec": {
   "display_name": "Python 3",
   "language": "python",
   "name": "python3"
  },
  "language_info": {
   "codemirror_mode": {
    "name": "ipython",
    "version": 3
   },
   "file_extension": ".py",
   "mimetype": "text/x-python",
   "name": "python",
   "nbconvert_exporter": "python",
   "pygments_lexer": "ipython3",
   "version": "3.7.3"
  }
 },
 "nbformat": 4,
 "nbformat_minor": 2
}
